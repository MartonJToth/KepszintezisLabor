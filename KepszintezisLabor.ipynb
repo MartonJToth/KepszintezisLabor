{
  "nbformat": 4,
  "nbformat_minor": 0,
  "metadata": {
    "colab": {
      "name": "Untitled2.ipynb",
      "version": "0.3.2",
      "provenance": [],
      "include_colab_link": true
    },
    "kernelspec": {
      "name": "python3",
      "display_name": "Python 3"
    },
    "accelerator": "GPU"
  },
  "cells": [
    {
      "cell_type": "markdown",
      "metadata": {
        "id": "view-in-github",
        "colab_type": "text"
      },
      "source": [
        "<a href=\"https://colab.research.google.com/github/MartonJToth/KepszintezisLabor/blob/master/KepszintezisLabor.ipynb\" target=\"_parent\"><img src=\"https://colab.research.google.com/assets/colab-badge.svg\" alt=\"Open In Colab\"/></a>"
      ]
    },
    {
      "metadata": {
        "id": "WoxccpdJwUEP",
        "colab_type": "text"
      },
      "cell_type": "markdown",
      "source": [
        "Install ellenőrzés"
      ]
    },
    {
      "metadata": {
        "id": "je6gC96bqJU9",
        "colab_type": "code",
        "colab": {
          "base_uri": "https://localhost:8080/",
          "height": 153
        },
        "outputId": "3ee45110-6c3e-4059-8d2b-e4b3671c589d"
      },
      "cell_type": "code",
      "source": [
        "!pip3 install torch torchvision \n",
        "!pip3 install Pillow==4.2.1"
      ],
      "execution_count": 1,
      "outputs": [
        {
          "output_type": "stream",
          "text": [
            "Requirement already satisfied: torch in /usr/local/lib/python3.6/dist-packages (1.0.1.post2)\n",
            "Requirement already satisfied: torchvision in /usr/local/lib/python3.6/dist-packages (0.2.2.post3)\n",
            "Requirement already satisfied: six in /usr/local/lib/python3.6/dist-packages (from torchvision) (1.11.0)\n",
            "Requirement already satisfied: pillow>=4.1.1 in /usr/local/lib/python3.6/dist-packages (from torchvision) (4.2.1)\n",
            "Requirement already satisfied: numpy in /usr/local/lib/python3.6/dist-packages (from torchvision) (1.16.2)\n",
            "Requirement already satisfied: olefile in /usr/local/lib/python3.6/dist-packages (from pillow>=4.1.1->torchvision) (0.46)\n",
            "Requirement already satisfied: Pillow==4.2.1 in /usr/local/lib/python3.6/dist-packages (4.2.1)\n",
            "Requirement already satisfied: olefile in /usr/local/lib/python3.6/dist-packages (from Pillow==4.2.1) (0.46)\n"
          ],
          "name": "stdout"
        }
      ]
    },
    {
      "metadata": {
        "id": "fozPBFJEr2gQ",
        "colab_type": "code",
        "colab": {
          "base_uri": "https://localhost:8080/",
          "height": 102
        },
        "outputId": "5d57013a-2e8b-4fc9-b10f-3214bf4adeff"
      },
      "cell_type": "code",
      "source": [
        "!nvcc --version\n",
        "import torch\n",
        "print(torch.cuda.is_available())"
      ],
      "execution_count": 2,
      "outputs": [
        {
          "output_type": "stream",
          "text": [
            "nvcc: NVIDIA (R) Cuda compiler driver\n",
            "Copyright (c) 2005-2018 NVIDIA Corporation\n",
            "Built on Sat_Aug_25_21:08:01_CDT_2018\n",
            "Cuda compilation tools, release 10.0, V10.0.130\n",
            "True\n"
          ],
          "name": "stdout"
        }
      ]
    },
    {
      "metadata": {
        "id": "urGPgctjwlnk",
        "colab_type": "text"
      },
      "cell_type": "markdown",
      "source": [
        "Adatbázis letöltés"
      ]
    },
    {
      "metadata": {
        "id": "3E29uW4UwowH",
        "colab_type": "code",
        "colab": {
          "base_uri": "https://localhost:8080/",
          "height": 204
        },
        "outputId": "76717161-1170-43e8-b91c-faa3cd881989"
      },
      "cell_type": "code",
      "source": [
        "!wget http://cg.iit.bme.hu/~tmarton/deeplearning/DehazeImages.zip\n",
        "!unzip -qq DehazeImages.zip\n",
        "!rm DehazeImages.zip"
      ],
      "execution_count": 3,
      "outputs": [
        {
          "output_type": "stream",
          "text": [
            "--2019-04-20 18:04:11--  http://cg.iit.bme.hu/~tmarton/deeplearning/DehazeImages.zip\n",
            "Resolving cg.iit.bme.hu (cg.iit.bme.hu)... 152.66.241.108\n",
            "Connecting to cg.iit.bme.hu (cg.iit.bme.hu)|152.66.241.108|:80... connected.\n",
            "HTTP request sent, awaiting response... 200 OK\n",
            "Length: 795080607 (758M) [application/zip]\n",
            "Saving to: ‘DehazeImages.zip’\n",
            "\n",
            "DehazeImages.zip    100%[===================>] 758.25M  12.9MB/s    in 1m 49s  \n",
            "\n",
            "2019-04-20 18:06:01 (6.95 MB/s) - ‘DehazeImages.zip’ saved [795080607/795080607]\n",
            "\n"
          ],
          "name": "stdout"
        }
      ]
    },
    {
      "metadata": {
        "id": "6d4IERYv92yF",
        "colab_type": "text"
      },
      "cell_type": "markdown",
      "source": [
        "DataLoader"
      ]
    },
    {
      "metadata": {
        "id": "__1tblq094dC",
        "colab_type": "code",
        "colab": {}
      },
      "cell_type": "code",
      "source": [
        "import os\n",
        "import imageio\n",
        "import numpy as np\n",
        "import torch\n",
        "import random\n",
        "from torch.utils.data import Dataset\n",
        "import PIL\n",
        "from PIL import Image, ImageCms\n",
        "\n",
        "\n",
        "class DehazeDataset(Dataset):\n",
        "\n",
        "    train_input = []\n",
        "    train_results = []\n",
        "\n",
        "    validation_input = []\n",
        "    validation_results = []\n",
        "\n",
        "    trainNum = 0\n",
        "    valNum = 0\n",
        "    width = 0\n",
        "    height = 0\n",
        "\n",
        "    def __init__(self, path, type='training', percentage='0.8', transform=None):\n",
        "\n",
        "        self.sampleNum = 0\n",
        "        self.width = 0\n",
        "        self.height = 0\n",
        "        self.channels = 3\n",
        "        self.type = type\n",
        "\n",
        "        self.transform = transform\n",
        "\n",
        "        self.srgb_profile = ImageCms.createProfile(\"sRGB\")\n",
        "        self.lab_profile = ImageCms.createProfile(\"LAB\")\n",
        "\n",
        "        self.rgb2lab_transform = ImageCms.buildTransformFromOpenProfiles(self.srgb_profile, self.lab_profile, \"RGB\", \"LAB\")\n",
        "\n",
        "        if len(DehazeDataset.train_input) == 0:\n",
        "\n",
        "            numFiles = len([name for name in os.listdir(path) if os.path.isfile(os.path.join(path, name))])\n",
        "\n",
        "            first = True\n",
        "\n",
        "            for i in range(numFiles // 2):\n",
        "\n",
        "                istr = str(i)\n",
        "\n",
        "                while len(istr) < 5:\n",
        "                    istr = '0' + istr\n",
        "\n",
        "                inputPath = os.path.join(path, 'hazy_' + istr + '.png')\n",
        "                resultPath = os.path.join(path, 'normal_' + istr + '.png')\n",
        "\n",
        "                if first:\n",
        "                    first = False\n",
        "                    im = imageio.imread(uri=inputPath)\n",
        "                    DehazeDataset.width = im.shape[0]\n",
        "                    DehazeDataset.height = im.shape[1]\n",
        "\n",
        "                if random.random() <= percentage:\n",
        "\n",
        "                    DehazeDataset.train_input.append(inputPath)\n",
        "                    DehazeDataset.train_results.append(resultPath)\n",
        "\n",
        "                else:\n",
        "\n",
        "                    DehazeDataset.validation_input.append(inputPath)\n",
        "                    DehazeDataset.validation_results.append(resultPath)\n",
        "\n",
        "        self.width = DehazeDataset.width // 4\n",
        "        self.height = DehazeDataset.height // 4\n",
        "\n",
        "        if type == 'training':\n",
        "            self.sampleNum = len(DehazeDataset.train_input)\n",
        "        else:\n",
        "            self.sampleNum = len(DehazeDataset.validation_input)\n",
        "\n",
        "    def __len__(self):\n",
        "        return self.sampleNum\n",
        "\n",
        "    def __getitem__(self, idx):\n",
        "\n",
        "        x = np.zeros((self.width, self.height, self.channels), dtype='f')\n",
        "        y = np.zeros((self.width, self.height, self.channels), dtype='f')\n",
        "\n",
        "        if self.type == 'training':\n",
        "\n",
        "            inputImage = Image.open(DehazeDataset.train_input[idx])\n",
        "            resultImage = Image.open(DehazeDataset.train_results[idx])\n",
        "\n",
        "        else:\n",
        "\n",
        "            inputImage = Image.open(DehazeDataset.validation_input[idx])\n",
        "            resultImage = Image.open(DehazeDataset.validation_results[idx])\n",
        "\n",
        "        inputImage = inputImage.resize((self.width, self.height), PIL.Image.ANTIALIAS)\n",
        "        inputImage = inputImage.convert('RGB')\n",
        "        resultImage = resultImage.resize((self.width, self.height), PIL.Image.ANTIALIAS)\n",
        "        resultImage = resultImage.convert('RGB')\n",
        "\n",
        "        inputImage = np.array(inputImage)\n",
        "        inputImage = np.true_divide(inputImage, 255)\n",
        "        resultImage = np.array(resultImage)\n",
        "        resultImage = np.true_divide(resultImage, 255)\n",
        "\n",
        "        x[:, :, :] = inputImage\n",
        "        y[:, :, :] = resultImage\n",
        "\n",
        "        x = np.transpose(x, (2, 1, 0))\n",
        "        y = np.transpose(y, (2, 1, 0))\n",
        "\n",
        "        sample = {'input': x, 'output': y}\n",
        "\n",
        "        if self.transform:\n",
        "            sample = self.transform(sample)\n",
        "\n",
        "        return sample\n",
        "      \n",
        "      \n"
      ],
      "execution_count": 0,
      "outputs": []
    },
    {
      "metadata": {
        "id": "hAXoJ-pO-FKM",
        "colab_type": "text"
      },
      "cell_type": "markdown",
      "source": [
        "Transform"
      ]
    },
    {
      "metadata": {
        "id": "9chdFdJ6-ETy",
        "colab_type": "code",
        "colab": {}
      },
      "cell_type": "code",
      "source": [
        "class ToTensor(object):\n",
        "\n",
        "    def __call__(self, sample):\n",
        "        input, output = sample['input'], sample['output']\n",
        "\n",
        "        return {'input': torch.from_numpy(input),\n",
        "                'output': torch.from_numpy(output)}\n",
        "\n"
      ],
      "execution_count": 0,
      "outputs": []
    }
  ]
}